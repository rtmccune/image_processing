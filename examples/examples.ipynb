{
 "cells": [
  {
   "cell_type": "code",
   "execution_count": 1,
   "id": "fb548e75",
   "metadata": {},
   "outputs": [],
   "source": [
    "import sys, os\n",
    "sys.path.append(os.path.abspath(\"..\"))  # adds parent folder\n",
    "\n",
    "from image_proc_utils import *"
   ]
  },
  {
   "cell_type": "code",
   "execution_count": 2,
   "id": "bab96a57",
   "metadata": {},
   "outputs": [
    {
     "name": "stderr",
     "output_type": "stream",
     "text": [
      "Generating labels from predictions: 100%|██████████| 3/3 [00:01<00:00,  1.72it/s]\n"
     ]
    }
   ],
   "source": [
    "predictions_folder = './data/predictions'\n",
    "labels_folder = './data/labels'\n",
    "\n",
    "create_labels_from_preds(predictions_folder, labels_folder)"
   ]
  },
  {
   "cell_type": "code",
   "execution_count": 3,
   "id": "57cd9139",
   "metadata": {},
   "outputs": [
    {
     "name": "stderr",
     "output_type": "stream",
     "text": [
      "Generating segmentation overlays...: 100%|██████████| 3/3 [00:05<00:00,  1.93s/it]"
     ]
    },
    {
     "name": "stdout",
     "output_type": "stream",
     "text": [
      "Folder of segmentation overlays generated.\n"
     ]
    },
    {
     "name": "stderr",
     "output_type": "stream",
     "text": [
      "\n"
     ]
    }
   ],
   "source": [
    "images_folder = './data/images'\n",
    "predictions_folder = './data/predictions'\n",
    "destination_folder = './data/segmentation_overlays'\n",
    "\n",
    "gen_segmap_overlays(images_folder, predictions_folder, destination_folder)"
   ]
  },
  {
   "cell_type": "code",
   "execution_count": null,
   "id": "1a2abe1e",
   "metadata": {},
   "outputs": [],
   "source": []
  }
 ],
 "metadata": {
  "kernelspec": {
   "display_name": "image_processing",
   "language": "python",
   "name": "python3"
  },
  "language_info": {
   "codemirror_mode": {
    "name": "ipython",
    "version": 3
   },
   "file_extension": ".py",
   "mimetype": "text/x-python",
   "name": "python",
   "nbconvert_exporter": "python",
   "pygments_lexer": "ipython3",
   "version": "3.13.7"
  }
 },
 "nbformat": 4,
 "nbformat_minor": 5
}
